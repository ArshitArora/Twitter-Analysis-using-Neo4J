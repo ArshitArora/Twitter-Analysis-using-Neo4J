{
 "cells": [
  {
   "cell_type": "code",
   "execution_count": 4,
   "metadata": {
    "colab": {
     "base_uri": "https://localhost:8080/"
    },
    "id": "9D_bkiJY2-sA",
    "outputId": "51d63990-0ac4-4dca-ca1f-e6a58eb7b18c"
   },
   "outputs": [],
   "source": [
    "!pip install -q py2neo"
   ]
  },
  {
   "cell_type": "code",
   "execution_count": 5,
   "metadata": {
    "id": "A3Yk1lpw6B7Q"
   },
   "outputs": [],
   "source": [
    "from py2neo import Graph\n",
    "from py2neo import Node\n",
    "from py2neo import Relationship\n",
    "import pandas as pd"
   ]
  },
  {
   "cell_type": "code",
   "execution_count": 6,
   "metadata": {
    "id": "kKOqUbweCfJR"
   },
   "outputs": [],
   "source": [
    "from neo4j import GraphDatabase\n"
   ]
  },
  {
   "cell_type": "code",
   "execution_count": 35,
   "metadata": {},
   "outputs": [],
   "source": [
    "uri=\"neo4j://localhost:7687\""
   ]
  },
  {
   "cell_type": "code",
   "execution_count": 36,
   "metadata": {},
   "outputs": [],
   "source": [
    "graph = Graph(uri, \n",
    "              user=\"neo4j\", \n",
    "              password=\"NEO4J@1234\")"
   ]
  },
  {
   "cell_type": "code",
   "execution_count": 23,
   "metadata": {
    "id": "XQ8vvNDbDH5O"
   },
   "outputs": [],
   "source": [
    "\n",
    "Instagram = Node(\"Social_Media\", title=\"Instagram\", tagline=\"Capture and Share the World's Moments\")\n",
    "Facebook = Node(\"Social_Media\",  title=\"Facebook\", tagline=\"It's quick and easy\")\n",
    "WhatsApp = Node(\"Social_Media\",  title=\"WhatsApp\", tagline=\"Hey there, I am using WhatsApp\")\n",
    "SnapChat = Node(\"Social_Media\", title=\"SnapChat\", tagline=\"THe fastest way to share a moment\")\n",
    "Youtube = Node(\"Social_Media\", title=\"Youtube\", tagline=\"Broadcast Yourself\")\n",
    "Twitter = Node(\"Social_Media\", title=\"Twitter\", tagline=\"Here, your voice matters\")\n",
    "LinkedIn = Node(\"Social_Media\", title=\"LinkedIn\", tagline=\"Sum up your Professional brand\")\n"
   ]
  },
  {
   "cell_type": "code",
   "execution_count": null,
   "metadata": {},
   "outputs": [],
   "source": []
  },
  {
   "cell_type": "code",
   "execution_count": null,
   "metadata": {},
   "outputs": [],
   "source": []
  },
  {
   "cell_type": "code",
   "execution_count": null,
   "metadata": {},
   "outputs": [],
   "source": []
  },
  {
   "cell_type": "code",
   "execution_count": null,
   "metadata": {},
   "outputs": [],
   "source": []
  },
  {
   "cell_type": "code",
   "execution_count": null,
   "metadata": {},
   "outputs": [],
   "source": []
  },
  {
   "cell_type": "code",
   "execution_count": null,
   "metadata": {
    "id": "j9sUTAG1kZgg"
   },
   "outputs": [],
   "source": []
  },
  {
   "cell_type": "code",
   "execution_count": 11,
   "metadata": {
    "id": "Uxzq6FjAGWiY"
   },
   "outputs": [],
   "source": [
    "Chandler = Node(\"Person\", name=\"Chandler Bing\", dob=1968, country=\"USA\", sex=\"Male\")\n",
    "Rachel = Node(\"Person\", name=\"Rachel Green\", dob=1969, country=\"USA\", sex=\"Female\")\n",
    "Joey = Node(\"Person\", name=\"Joey Tribbiani\", dob=1967, country=\"USA\", sex=\"Male\")\n",
    "Ross = Node(\"Person\", name=\"Ross Geller\", dob=1967, country=\"USA\", sex=\"Male\")\n",
    "Monica = Node(\"Person\", name=\"Monica Geller\", dob=1967, country=\"USA\", sex=\"Female\")\n",
    "Phoebe = Node(\"Person\", name=\"Phoebe Buffay\", dob=1971, country=\"USA\", sex=\"Female\")\n",
    "\n",
    "Abhijit = Node(\"Person\", name=\"Abhijit Singh \", dob=1980, country=\"India\", sex=\"Male\")\n",
    "ACP = Node(\"Person\", name=\"ACP Pradyuman \", dob=1960, country=\"India\", sex=\"Male\")\n",
    "Tarika = Node(\"Person\", name=\"DR Tarika \", dob=1986, country=\"India\", sex=\"Female\")\n",
    "Purvi = Node(\"Person\", name=\"Purvi Sayed \", dob=1988, country=\"India\", sex=\"Female\")\n",
    "Shreya = Node(\"Person\", name=\"Shreya Chedda\", dob=1985, country=\"India\", sex=\"Female\")\n",
    "Salunkhe = Node(\"Person\", name=\"Dr R.P. Salunkhe \", dob=1965, country=\"India\", sex=\"Male\")\n",
    "Fredricks = Node(\"Person\", name=\"Fredricks \", dob=1975, country=\"India\", sex=\"Male\")\n",
    "Sachin = Node(\"Person\", name=\"Inspector Sachin\", dob=1987, country=\"India\", sex=\"Male\")\n",
    "Nikhil = Node(\"Person\", name=\"Inspector Nikhil \", dob=1990, country=\"India\", sex=\"Male\")\n",
    "\n",
    "Bagha = Node(\"Person\", name=\"Bagha\", dob=2001, country=\"India\", sex=\"Male\")\n",
    "Peg = Node(\"Person\", name=\"Peg Legge\", dob=2006, country=\"India\", sex=\"Male\")\n",
    "Isabelle = Node(\"Person\", name=\"Isabelle Ringing\", dob=2005, country=\"India\", sex=\"Female\")\n",
    "Anne = Node(\"Person\", name=\"Anne Teak\", dob=2001, country=\"USA\", sex=\"Female\")\n",
    "Rose = Node(\"Person\", name=\"Rose Bush\", dob=1998, country=\"USA\", sex=\"Female\")\n",
    "Melody = Node(\"Person\", name=\"Melody Sunshine\", dob=1999, country=\"USA\", sex=\"Male\")\n",
    "Chew = Node(\"Person\", name=\"Chew Mee \", dob=1999, country=\"USA\", sex=\"Male\")\n"
   ]
  },
  {
   "cell_type": "code",
   "execution_count": 25,
   "metadata": {
    "id": "UflxmeYHGZ4H"
   },
   "outputs": [],
   "source": [
    "graph.create(Instagram | Facebook | WhatsApp | SnapChat \n",
    "             | Youtube | Twitter | LinkedIn)\n"
   ]
  },
  {
   "cell_type": "code",
   "execution_count": 26,
   "metadata": {
    "id": "K-I_nq_WGcvM"
   },
   "outputs": [],
   "source": [
    "graph.create(Chandler | Rachel | Joey | Ross | Monica | Phoebe\n",
    "             | Bagha | Peg | Isabelle | Anne | Rose | Melody \n",
    "             | Chew | Abhijit | ACP | Tarika |Purvi | Shreya\n",
    "             | Salunkhe | Fredricks | Sachin | Nikhil)\n"
   ]
  },
  {
   "cell_type": "code",
   "execution_count": 27,
   "metadata": {
    "id": "aLGSuRCCGeQD"
   },
   "outputs": [],
   "source": [
    "graph.create(Relationship(Joey, \"Uses\", SnapChat, joinedyear=2014, screentime=47, rating=3))\n",
    "graph.create(Relationship(Ross, \"Uses\", LinkedIn, joinedyear=2010, screentime=64, rating=5))\n",
    "graph.create(Relationship(Ross, \"Uses\", Twitter, joinedyear=2013, screentime=60, rating=4.6))\n",
    "graph.create(Relationship(Monica, \"Uses\", Facebook, joinedyear=2019, screentime=97, rating=4.5))\n",
    "graph.create(Relationship(Phoebe, \"Uses\", Facebook, joinedyear=2018, screentime=20, rating=3))\n",
    "graph.create(Relationship(Bagha, \"Uses\", Facebook, joinedyear=2016, screentime=69, rating=4.9))\n",
    "graph.create(Relationship(Peg, \"Uses\", Facebook, joinedyear=2013, screentime=94, rating=1))\n",
    "graph.create(Relationship(Peg, \"Uses\", LinkedIn, joinedyear=2011, screentime=34, rating=4.8))\n",
    "graph.create(Relationship(Isabelle, \"Uses\", Youtube, joinedyear=2008, screentime=104, rating=4.6))\n",
    "graph.create(Relationship(Isabelle, \"Uses\", Twitter, joinedyear=2016, screentime=24, rating=1.8))\n",
    "graph.create(Relationship(Isabelle, \"Uses\", Instagram, joinedyear = 2014, screentime = 120, rating = 4.8))\n",
    "graph.create(Relationship(Anne, \"Uses\", Youtube, joinedyear=2009, screentime=14, rating=5))\n",
    "graph.create(Relationship(Anne, \"Uses\", SnapChat, joinedyear=2013, screentime=36, rating=3.8))\n",
    "graph.create(Relationship(Anne, \"Uses\", LinkedIn, joinedyear=2017, screentime=20, rating=4))\n",
    "graph.create(Relationship(Chandler, \"Uses\", Facebook, joinedyear=2016, screentime=30, rating=2))\n",
    "graph.create(Relationship(Chandler, \"Uses\", WhatsApp, joinedyear=2016, screentime=70, rating=3))\n",
    "graph.create(Relationship(Chandler, \"Uses\", Instagram, joinedyear=2012, screentime=150, rating=4.9))\n",
    "graph.create(Relationship(Rachel, \"Uses\", WhatsApp, joinedyear=2018, screentime=100, rating=4))\n",
    "\n",
    "graph.create(Relationship(Phoebe, \"Uses\", WhatsApp, joinedyear=2010, screentime=25, rating=5))\n",
    "graph.create(Relationship(Rachel, \"Uses\", WhatsApp, joinedyear=2011, screentime=10, rating=4))\n",
    "graph.create(Relationship(Bagha, \"Uses\", WhatsApp, joinedyear=2012, screentime=15, rating=5))\n",
    "graph.create(Relationship(Monica, \"Uses\", WhatsApp, joinedyear=2013, screentime=30, rating=4))\n",
    "graph.create(Relationship(Peg, \"Uses\", WhatsApp, joinedyear=2014, screentime=35, rating=5))\n",
    "graph.create(Relationship(Ross, \"Uses\", WhatsApp, joinedyear=2015, screentime=40, rating=4))\n",
    "graph.create(Relationship(Isabelle, \"Uses\", WhatsApp, joinedyear=2016, screentime=45, rating=5))\n",
    "graph.create(Relationship(Anne, \"Uses\", WhatsApp, joinedyear=2017, screentime=50, rating=4))\n",
    "graph.create(Relationship(Joey, \"Uses\", WhatsApp, joinedyear=2018, screentime=55, rating=5))\n",
    "\n",
    "graph.create(Relationship(Abhijit, \"Uses\", Instagram, joinedyear=2018, screentime=80, rating=5))\n",
    "graph.create(Relationship(ACP, \"Uses\", Twitter, joinedyear=2014, screentime=20, rating=3))\n",
    "graph.create(Relationship(Tarika, \"Uses\", Instagram, joinedyear=2015, screentime=130, rating=4))\n",
    "graph.create(Relationship(Purvi, \"Uses\", Instagram, joinedyear=2017, screentime=100, rating=4))\n",
    "graph.create(Relationship(Shreya, \"Uses\", Instagram, joinedyear=2018, screentime=40, rating=4))\n",
    "graph.create(Relationship(Salunkhe, \"Uses\", LinkedIn, joinedyear=2019, screentime=10, rating=3))\n",
    "graph.create(Relationship(Fredricks, \"Uses\", Youtube, joinedyear=2013, screentime=30, rating=3))\n",
    "graph.create(Relationship(Sachin, \"Uses\", Youtube, joinedyear=2010, screentime=40, rating=4))\n",
    "graph.create(Relationship(Nikhil, \"Uses\", Instagram, joinedyear=2012, screentime=50, rating=5))\n",
    "\n",
    "graph.create(Relationship(Rachel, \"Uses\", Facebook, joinedyear=2017, screentime=43, rating=2))\n",
    "graph.create(Relationship(Rose, \"Uses\", Twitter, joinedyear=2012, screentime=84, rating=4))\n",
    "graph.create(Relationship(Rose, \"Uses\", LinkedIn, joinedyear=2014, screentime=134, rating=1))\n",
    "graph.create(Relationship(Rose, \"Uses\", Youtube, joinedyear=2014, screentime=64, rating=4.8))\n",
    "graph.create(Relationship(Melody, \"Uses\", Twitter, joinedyear=2010, screentime=54, rating=2.9))\n",
    "graph.create(Relationship(Melody, \"Uses\", SnapChat, joinedyear=2015, screentime=76, rating=3.8))\n",
    "graph.create(Relationship(Melody, \"Uses\", WhatsApp, joinedyear=2019, screentime=87, rating=2.6))\n",
    "graph.create(Relationship(Chew, \"Uses\", Facebook, joinedyear=2017, screentime=29, rating=4.9))\n",
    "graph.create(Relationship(Chew, \"Uses\", SnapChat, joinedyear=2018, screentime=48, rating=2.8))\n",
    "graph.create(Relationship(Chew, \"Uses\", WhatsApp, joinedyear=2009, screentime=86, rating=1.6))\n"
   ]
  },
  {
   "cell_type": "code",
   "execution_count": 28,
   "metadata": {
    "colab": {
     "base_uri": "https://localhost:8080/"
    },
    "id": "MiSHj94oGlTA",
    "outputId": "d57f4d04-5f19-408e-f0f4-40c0ff438699"
   },
   "outputs": [
    {
     "name": "stdout",
     "output_type": "stream",
     "text": [
      "'WhatsApp'\t12\n",
      "'Facebook'\t7\n",
      "'Instagram'\t7\n"
     ]
    }
   ],
   "source": [
    "query1 = \"\"\"\n",
    "MATCH (p:Person)-[]->(s:Social_Media)\n",
    "RETURN s.title, COUNT(*) AS Users\n",
    "ORDER BY Users DESC\n",
    "LIMIT 3\n",
    "\"\"\"\n",
    "\n",
    "result1 = graph.run(query1)\n",
    "for d in result1:\n",
    "    print(d)"
   ]
  },
  {
   "cell_type": "code",
   "execution_count": 29,
   "metadata": {
    "colab": {
     "base_uri": "https://localhost:8080/"
    },
    "id": "gC4EOL3rGpRL",
    "outputId": "6d4821cd-eb11-4cd1-dab1-df36f7ac69ee"
   },
   "outputs": [
    {
     "name": "stdout",
     "output_type": "stream",
     "text": [
      "'Instagram'\t4.5285714285714285\n",
      "'Youtube'\t4.28\n",
      "'WhatsApp'\t4.016666666666667\n",
      "'LinkedIn'\t3.5599999999999996\n",
      "'SnapChat'\t3.3499999999999996\n",
      "'Twitter'\t3.2600000000000002\n",
      "'Facebook'\t3.185714285714286\n"
     ]
    }
   ],
   "source": [
    "query2 = \"\"\"\n",
    "MATCH (p:Person)-[r]->(s:Social_Media)\n",
    "RETURN s.title AS Title, AVG(r.rating) AS Rating\n",
    "ORDER BY Rating DESC\n",
    "\"\"\"\n",
    "\n",
    "result2 = graph.run(query2)\n",
    "for d in result2:\n",
    "    print(d)\n"
   ]
  },
  {
   "cell_type": "code",
   "execution_count": 30,
   "metadata": {
    "id": "a1qjel9QGsVH"
   },
   "outputs": [],
   "source": [
    "query3 = \"\"\"\n",
    "MATCH (p:Person)-[r]->(s:Social_Media)\n",
    "RETURN DISTINCT p.name AS Name, s.title,SUM(r.screentime) AS Total\n",
    "ORDER BY Total DESC\n",
    "LIMIT 10\n",
    "\"\"\"\n",
    "\n",
    "result3 = graph.run(query3)\n",
    "\n",
    "df = pd.DataFrame(result3, columns = [\"User\", \"Social Media\", \"Screen Time\"])\n"
   ]
  },
  {
   "cell_type": "code",
   "execution_count": 31,
   "metadata": {
    "colab": {
     "base_uri": "https://localhost:8080/",
     "height": 363
    },
    "id": "aCToKmS4Guig",
    "outputId": "7119703e-128e-4f8d-9c5e-bedeac615d90"
   },
   "outputs": [
    {
     "data": {
      "text/html": [
       "<div>\n",
       "<style scoped>\n",
       "    .dataframe tbody tr th:only-of-type {\n",
       "        vertical-align: middle;\n",
       "    }\n",
       "\n",
       "    .dataframe tbody tr th {\n",
       "        vertical-align: top;\n",
       "    }\n",
       "\n",
       "    .dataframe thead th {\n",
       "        text-align: right;\n",
       "    }\n",
       "</style>\n",
       "<table border=\"1\" class=\"dataframe\">\n",
       "  <thead>\n",
       "    <tr style=\"text-align: right;\">\n",
       "      <th></th>\n",
       "      <th>User</th>\n",
       "      <th>Social Media</th>\n",
       "      <th>Screen Time</th>\n",
       "    </tr>\n",
       "  </thead>\n",
       "  <tbody>\n",
       "    <tr>\n",
       "      <th>0</th>\n",
       "      <td>Chandler Bing</td>\n",
       "      <td>Instagram</td>\n",
       "      <td>150</td>\n",
       "    </tr>\n",
       "    <tr>\n",
       "      <th>1</th>\n",
       "      <td>Rose Bush</td>\n",
       "      <td>LinkedIn</td>\n",
       "      <td>134</td>\n",
       "    </tr>\n",
       "    <tr>\n",
       "      <th>2</th>\n",
       "      <td>DR Tarika</td>\n",
       "      <td>Instagram</td>\n",
       "      <td>130</td>\n",
       "    </tr>\n",
       "    <tr>\n",
       "      <th>3</th>\n",
       "      <td>Isabelle Ringing</td>\n",
       "      <td>Instagram</td>\n",
       "      <td>120</td>\n",
       "    </tr>\n",
       "    <tr>\n",
       "      <th>4</th>\n",
       "      <td>Isabelle Ringing</td>\n",
       "      <td>Youtube</td>\n",
       "      <td>104</td>\n",
       "    </tr>\n",
       "    <tr>\n",
       "      <th>5</th>\n",
       "      <td>Purvi Sayed</td>\n",
       "      <td>Instagram</td>\n",
       "      <td>100</td>\n",
       "    </tr>\n",
       "    <tr>\n",
       "      <th>6</th>\n",
       "      <td>Monica Geller</td>\n",
       "      <td>Facebook</td>\n",
       "      <td>97</td>\n",
       "    </tr>\n",
       "    <tr>\n",
       "      <th>7</th>\n",
       "      <td>Peg Legge</td>\n",
       "      <td>Facebook</td>\n",
       "      <td>94</td>\n",
       "    </tr>\n",
       "    <tr>\n",
       "      <th>8</th>\n",
       "      <td>Melody Sunshine</td>\n",
       "      <td>WhatsApp</td>\n",
       "      <td>87</td>\n",
       "    </tr>\n",
       "    <tr>\n",
       "      <th>9</th>\n",
       "      <td>Chew Mee</td>\n",
       "      <td>WhatsApp</td>\n",
       "      <td>86</td>\n",
       "    </tr>\n",
       "  </tbody>\n",
       "</table>\n",
       "</div>"
      ],
      "text/plain": [
       "               User Social Media  Screen Time\n",
       "0     Chandler Bing    Instagram          150\n",
       "1         Rose Bush     LinkedIn          134\n",
       "2        DR Tarika     Instagram          130\n",
       "3  Isabelle Ringing    Instagram          120\n",
       "4  Isabelle Ringing      Youtube          104\n",
       "5      Purvi Sayed     Instagram          100\n",
       "6     Monica Geller     Facebook           97\n",
       "7         Peg Legge     Facebook           94\n",
       "8   Melody Sunshine     WhatsApp           87\n",
       "9         Chew Mee      WhatsApp           86"
      ]
     },
     "execution_count": 31,
     "metadata": {},
     "output_type": "execute_result"
    }
   ],
   "source": [
    "df"
   ]
  },
  {
   "cell_type": "code",
   "execution_count": 32,
   "metadata": {
    "colab": {
     "base_uri": "https://localhost:8080/"
    },
    "id": "2E4z5twcGwPk",
    "outputId": "34223c2c-afe7-488f-8d61-901bd825469b"
   },
   "outputs": [
    {
     "name": "stdout",
     "output_type": "stream",
     "text": [
      "'Eldest Person :'\t'ACP Pradyuman '\t62\t'Twitter'\n",
      "'Youngest Person: '\t'Peg Legge'\t16\t'Facebook'\n"
     ]
    }
   ],
   "source": [
    "query4 = \"\"\"\n",
    "MATCH (p:Person)-[r]->(s:Social_Media)\n",
    "SET p.Name = 'Eldest Person :'\n",
    "RETURN p.Name, p.name AS Name, 2022-p.dob AS Age, s.title\n",
    "ORDER BY Age DESC\n",
    "LIMIT 1\n",
    "UNION ALL\n",
    "MATCH (p:Person)-[r]->(s:Social_Media)\n",
    "SET p.Name = 'Youngest Person: '\n",
    "RETURN p.Name ,p.name AS Name, 2022-p.dob AS Age, s.title\n",
    "ORDER BY Age\n",
    "LIMIT 1\n",
    "\"\"\"\n",
    "\n",
    "result4 = graph.run(query4)\n",
    "for d in result4:\n",
    "    print(d)\n",
    "     \n"
   ]
  },
  {
   "cell_type": "code",
   "execution_count": 33,
   "metadata": {
    "colab": {
     "base_uri": "https://localhost:8080/"
    },
    "id": "_eJnN0cEGzJv",
    "outputId": "6dd43846-972b-4dae-b7d2-f46938b4674c"
   },
   "outputs": [
    {
     "name": "stdout",
     "output_type": "stream",
     "text": [
      "'WhatsApp'\t7\t'Male'\n",
      "'SnapChat'\t3\t'Male'\n",
      "'LinkedIn'\t3\t'Male'\n",
      "'Facebook'\t4\t'Male'\n",
      "'Instagram'\t3\t'Male'\n",
      "'Youtube'\t2\t'Male'\n",
      "'Twitter'\t3\t'Male'\n",
      "'WhatsApp'\t5\t'Female'\n",
      "'Facebook'\t3\t'Female'\n",
      "'Instagram'\t4\t'Female'\n",
      "'Twitter'\t2\t'Female'\n",
      "'Youtube'\t3\t'Female'\n",
      "'LinkedIn'\t2\t'Female'\n",
      "'SnapChat'\t1\t'Female'\n"
     ]
    }
   ],
   "source": [
    "query5 = \"\"\"\n",
    "MATCH (p:Person)-[r]->(s:Social_Media)\n",
    "WHERE p.sex=\"Male\"\n",
    "SET p.surname = 'Male'\n",
    "RETURN s.title, COUNT(*),p.surname AS count\n",
    "ORDER BY count DESC\n",
    "UNION ALL\n",
    "MATCH (p:Person)-[r]->(s:Social_Media)\n",
    "WHERE p.sex=\"Female\"\n",
    "SET p.surname = 'Female'\n",
    "RETURN s.title, COUNT(*),p.surname AS count\n",
    "ORDER BY count DESC\n",
    "\"\"\"\n",
    "\n",
    "result5 = graph.run(query5)\n",
    "for d in result5:\n",
    "    print(d)\n"
   ]
  },
  {
   "cell_type": "code",
   "execution_count": null,
   "metadata": {
    "id": "LfHJr6UvG1qY"
   },
   "outputs": [],
   "source": [
    "df = pd.read_csv('fls.csv')\n",
    "\n",
    "# Get the top 50 prev_location values\n",
    "top_prev_locations = df['prev_location'].value_counts().head(50).index.tolist()\n",
    "\n",
    "# Filter the original dataset based on top 50 prev_location values\n",
    "filtered_df = df[df['prev_location'].isin(top_prev_locations)]\n",
    "\n",
    "# Save the filtered dataset to a CSV file\n",
    "filtered_df.to_csv('filtered_dataset.csv', index=False)"
   ]
  },
  {
   "cell_type": "code",
   "execution_count": null,
   "metadata": {},
   "outputs": [],
   "source": [
    "top_prev_locations = df['prev_location'].value_counts().head(50).index.tolist()\n",
    "\n",
    "# Filter the dataframe to include only the top 50 prev_location values\n",
    "df_filtered = df[df['prev_location'].isin(top_prev_locations)]\n",
    "\n",
    "# Save the filtered dataset to a CSV file\n",
    "df_filtered.to_csv('hey_filtered.csv', index=False)"
   ]
  }
 ],
 "metadata": {
  "accelerator": "GPU",
  "colab": {
   "provenance": []
  },
  "gpuClass": "standard",
  "kernelspec": {
   "display_name": "Python 3 (ipykernel)",
   "language": "python",
   "name": "python3"
  },
  "language_info": {
   "codemirror_mode": {
    "name": "ipython",
    "version": 3
   },
   "file_extension": ".py",
   "mimetype": "text/x-python",
   "name": "python",
   "nbconvert_exporter": "python",
   "pygments_lexer": "ipython3",
   "version": "3.9.7"
  }
 },
 "nbformat": 4,
 "nbformat_minor": 1
}
